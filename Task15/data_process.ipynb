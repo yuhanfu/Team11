{
 "cells": [
  {
   "cell_type": "code",
   "execution_count": 7,
   "metadata": {},
   "outputs": [],
   "source": [
    "import pandas as pd\n",
    "import numpy as np"
   ]
  },
  {
   "cell_type": "code",
   "execution_count": 23,
   "metadata": {},
   "outputs": [],
   "source": [
    "alldf= pd.read_csv('customer-databases/all.csv', sep=';')\n",
    "grocerydf = pd.read_csv('customer-databases/grocery_store.csv', sep=';') \n",
    "deseaseiddf = pd.read_csv('customer-databases/disease_id.csv', sep=';')\n",
    "insurancedf = pd.read_csv('customer-databases/insurance_company.csv', sep=';')\n",
    "insurancehealthdf = pd.read_csv('customer-databases/insurance_health.csv', sep=';')\n",
    "diseasedf = pd.read_csv('customer-databases/disease_id.csv', sep=';')\n",
    "prescriptiondf = pd.read_csv('customer-databases/prescriptions.csv', sep=';')"
   ]
  },
  {
   "cell_type": "code",
   "execution_count": 24,
   "metadata": {},
   "outputs": [],
   "source": [
    "newdf = alldf.merge(grocerydf, how=\"left\", on=\"grocery_member_id\", suffixes=('', '_y'))"
   ]
  },
  {
   "cell_type": "code",
   "execution_count": 25,
   "metadata": {},
   "outputs": [],
   "source": [
    "newdf.drop(list(newdf.filter(regex = '_y')), axis = 1, inplace = True)"
   ]
  },
  {
   "cell_type": "code",
   "execution_count": 27,
   "metadata": {},
   "outputs": [],
   "source": [
    "newdf = newdf.merge(insurancedf, how=\"left\", on=\"insurance_member_id\", suffixes=('', '_y'))"
   ]
  },
  {
   "cell_type": "code",
   "execution_count": 29,
   "metadata": {},
   "outputs": [],
   "source": [
    "newdf.drop(list(newdf.filter(regex = '_y')), axis = 1, inplace = True)"
   ]
  },
  {
   "cell_type": "code",
   "execution_count": 31,
   "metadata": {},
   "outputs": [],
   "source": [
    "newdf = newdf.merge(insurancehealthdf, how=\"left\", on=\"insurance_id\", suffixes=('', '_y'))"
   ]
  },
  {
   "cell_type": "code",
   "execution_count": 37,
   "metadata": {},
   "outputs": [],
   "source": [
    "newdf.drop(list(newdf.filter(regex = '_y')), axis = 1, inplace = True)"
   ]
  },
  {
   "cell_type": "code",
   "execution_count": 35,
   "metadata": {},
   "outputs": [],
   "source": [
    "newdf = newdf.merge(diseasedf, how=\"left\", on=\"disease_id\", suffixes=('', '_y'))"
   ]
  },
  {
   "cell_type": "code",
   "execution_count": 39,
   "metadata": {},
   "outputs": [],
   "source": [
    "newdf = newdf.merge(prescriptiondf, how=\"left\", on=\"perscription_id\", suffixes=('', '_y'))"
   ]
  },
  {
   "cell_type": "code",
   "execution_count": 41,
   "metadata": {},
   "outputs": [],
   "source": [
    "newdf.drop(list(newdf.filter(regex = '_y')), axis = 1, inplace = True)"
   ]
  },
  {
   "cell_type": "code",
   "execution_count": 95,
   "metadata": {},
   "outputs": [
    {
     "data": {
      "text/plain": [
       "Index(['insurance_member_id', 'grocery_member_id', 'plan_number', 'dob',\n",
       "       'address', 'credit_card', 'ad_keywords', 'coupon_code', 'firstname',\n",
       "       'lastname', 'gender', 'ethnicity', 'ssn', 'zip', 'id', 'city', 'state',\n",
       "       'grocery_id', 'insurance_id', 'insurance_health_id', 'disease_id',\n",
       "       'perscription_id', 'disease_name', 'disease_treats', 'chemical_name',\n",
       "       'marketing_name', 'perscription_probability'],\n",
       "      dtype='object')"
      ]
     },
     "execution_count": 95,
     "metadata": {},
     "output_type": "execute_result"
    }
   ],
   "source": [
    "newdf.columns"
   ]
  },
  {
   "cell_type": "code",
   "execution_count": 43,
   "metadata": {},
   "outputs": [],
   "source": [
    "newdf.to_csv('merged3.csv', sep=';', index=False)"
   ]
  },
  {
   "cell_type": "code",
   "execution_count": 44,
   "metadata": {},
   "outputs": [
    {
     "data": {
      "text/html": [
       "<div>\n",
       "<style scoped>\n",
       "    .dataframe tbody tr th:only-of-type {\n",
       "        vertical-align: middle;\n",
       "    }\n",
       "\n",
       "    .dataframe tbody tr th {\n",
       "        vertical-align: top;\n",
       "    }\n",
       "\n",
       "    .dataframe thead th {\n",
       "        text-align: right;\n",
       "    }\n",
       "</style>\n",
       "<table border=\"1\" class=\"dataframe\">\n",
       "  <thead>\n",
       "    <tr style=\"text-align: right;\">\n",
       "      <th></th>\n",
       "      <th>insurance_member_id</th>\n",
       "      <th>grocery_member_id</th>\n",
       "      <th>plan_number</th>\n",
       "      <th>dob</th>\n",
       "      <th>address</th>\n",
       "      <th>credit_card</th>\n",
       "      <th>ad_keywords</th>\n",
       "      <th>coupon_code</th>\n",
       "      <th>firstname</th>\n",
       "      <th>lastname</th>\n",
       "      <th>...</th>\n",
       "      <th>grocery_id</th>\n",
       "      <th>insurance_id</th>\n",
       "      <th>insurance_health_id</th>\n",
       "      <th>disease_id</th>\n",
       "      <th>perscription_id</th>\n",
       "      <th>disease_name</th>\n",
       "      <th>disease_treats</th>\n",
       "      <th>chemical_name</th>\n",
       "      <th>marketing_name</th>\n",
       "      <th>perscription_probability</th>\n",
       "    </tr>\n",
       "  </thead>\n",
       "  <tbody>\n",
       "    <tr>\n",
       "      <th>0</th>\n",
       "      <td>ab122f73-cbcf-4607-9c12-cb800c2a37e5</td>\n",
       "      <td>9f42b7ad-b512-4ccf-947a-b66b6643deca</td>\n",
       "      <td>7732</td>\n",
       "      <td>1967-04-13</td>\n",
       "      <td>7 Utah Parkway</td>\n",
       "      <td>5100149057970108</td>\n",
       "      <td>ante ipsum</td>\n",
       "      <td>1</td>\n",
       "      <td>BENJAMIN</td>\n",
       "      <td>WALKER</td>\n",
       "      <td>...</td>\n",
       "      <td>100901.0</td>\n",
       "      <td>NaN</td>\n",
       "      <td>NaN</td>\n",
       "      <td>NaN</td>\n",
       "      <td>NaN</td>\n",
       "      <td>NaN</td>\n",
       "      <td>NaN</td>\n",
       "      <td>NaN</td>\n",
       "      <td>NaN</td>\n",
       "      <td>NaN</td>\n",
       "    </tr>\n",
       "    <tr>\n",
       "      <th>1</th>\n",
       "      <td>ab14879f-2c34-408c-9a20-77547a2adb23</td>\n",
       "      <td>b60c8450-64eb-41fe-8dda-1bbaf00d9e29</td>\n",
       "      <td>71963</td>\n",
       "      <td>1950-07-17</td>\n",
       "      <td>7 Sauthoff Pass</td>\n",
       "      <td>4175004102583930</td>\n",
       "      <td>velit donec diam neque vestibulum</td>\n",
       "      <td>62699</td>\n",
       "      <td>ERICK</td>\n",
       "      <td>BUTLER</td>\n",
       "      <td>...</td>\n",
       "      <td>100902.0</td>\n",
       "      <td>NaN</td>\n",
       "      <td>NaN</td>\n",
       "      <td>NaN</td>\n",
       "      <td>NaN</td>\n",
       "      <td>NaN</td>\n",
       "      <td>NaN</td>\n",
       "      <td>NaN</td>\n",
       "      <td>NaN</td>\n",
       "      <td>NaN</td>\n",
       "    </tr>\n",
       "    <tr>\n",
       "      <th>2</th>\n",
       "      <td>ab16fce9-9666-44f1-8ab9-8dfc02b713a7</td>\n",
       "      <td>f479358b-3ddd-40ff-9053-501c63a4f413</td>\n",
       "      <td>9</td>\n",
       "      <td>1939-03-12</td>\n",
       "      <td>979 Valley Edge Road</td>\n",
       "      <td>3565552068068866</td>\n",
       "      <td>at ipsum ac tellus semper</td>\n",
       "      <td>80315</td>\n",
       "      <td>LOUIE</td>\n",
       "      <td>HENDERSON</td>\n",
       "      <td>...</td>\n",
       "      <td>NaN</td>\n",
       "      <td>126570.0</td>\n",
       "      <td>NaN</td>\n",
       "      <td>NaN</td>\n",
       "      <td>NaN</td>\n",
       "      <td>NaN</td>\n",
       "      <td>NaN</td>\n",
       "      <td>NaN</td>\n",
       "      <td>NaN</td>\n",
       "      <td>NaN</td>\n",
       "    </tr>\n",
       "    <tr>\n",
       "      <th>3</th>\n",
       "      <td>ab1742ab-c368-4827-886c-9fa0ad1f43b6</td>\n",
       "      <td>040e3fae-4fe8-4c2c-b92b-18bff1539afa</td>\n",
       "      <td>2303</td>\n",
       "      <td>1937-10-30</td>\n",
       "      <td>1319 Knutson Hill</td>\n",
       "      <td>5602215613252159</td>\n",
       "      <td>venenatis tristique fusce</td>\n",
       "      <td>8</td>\n",
       "      <td>DYLAN</td>\n",
       "      <td>PEREZ</td>\n",
       "      <td>...</td>\n",
       "      <td>NaN</td>\n",
       "      <td>144207.0</td>\n",
       "      <td>NaN</td>\n",
       "      <td>NaN</td>\n",
       "      <td>NaN</td>\n",
       "      <td>NaN</td>\n",
       "      <td>NaN</td>\n",
       "      <td>NaN</td>\n",
       "      <td>NaN</td>\n",
       "      <td>NaN</td>\n",
       "    </tr>\n",
       "    <tr>\n",
       "      <th>4</th>\n",
       "      <td>ab19d51d-59b9-4a19-8940-a2f95827e98a</td>\n",
       "      <td>f82351fd-cc2d-4501-a357-64dc1a6fc938</td>\n",
       "      <td>34938</td>\n",
       "      <td>1964-12-30</td>\n",
       "      <td>0 Thierer Junction</td>\n",
       "      <td>58939128207813729</td>\n",
       "      <td>duis at velit eu</td>\n",
       "      <td>39641</td>\n",
       "      <td>WARD</td>\n",
       "      <td>SANCHEZ</td>\n",
       "      <td>...</td>\n",
       "      <td>100903.0</td>\n",
       "      <td>NaN</td>\n",
       "      <td>NaN</td>\n",
       "      <td>NaN</td>\n",
       "      <td>NaN</td>\n",
       "      <td>NaN</td>\n",
       "      <td>NaN</td>\n",
       "      <td>NaN</td>\n",
       "      <td>NaN</td>\n",
       "      <td>NaN</td>\n",
       "    </tr>\n",
       "  </tbody>\n",
       "</table>\n",
       "<p>5 rows × 27 columns</p>\n",
       "</div>"
      ],
      "text/plain": [
       "                    insurance_member_id                     grocery_member_id  \\\n",
       "0  ab122f73-cbcf-4607-9c12-cb800c2a37e5  9f42b7ad-b512-4ccf-947a-b66b6643deca   \n",
       "1  ab14879f-2c34-408c-9a20-77547a2adb23  b60c8450-64eb-41fe-8dda-1bbaf00d9e29   \n",
       "2  ab16fce9-9666-44f1-8ab9-8dfc02b713a7  f479358b-3ddd-40ff-9053-501c63a4f413   \n",
       "3  ab1742ab-c368-4827-886c-9fa0ad1f43b6  040e3fae-4fe8-4c2c-b92b-18bff1539afa   \n",
       "4  ab19d51d-59b9-4a19-8940-a2f95827e98a  f82351fd-cc2d-4501-a357-64dc1a6fc938   \n",
       "\n",
       "   plan_number         dob               address        credit_card  \\\n",
       "0         7732  1967-04-13        7 Utah Parkway   5100149057970108   \n",
       "1        71963  1950-07-17       7 Sauthoff Pass   4175004102583930   \n",
       "2            9  1939-03-12  979 Valley Edge Road   3565552068068866   \n",
       "3         2303  1937-10-30     1319 Knutson Hill   5602215613252159   \n",
       "4        34938  1964-12-30    0 Thierer Junction  58939128207813729   \n",
       "\n",
       "                         ad_keywords  coupon_code firstname   lastname  \\\n",
       "0                         ante ipsum            1  BENJAMIN     WALKER   \n",
       "1  velit donec diam neque vestibulum        62699     ERICK     BUTLER   \n",
       "2          at ipsum ac tellus semper        80315     LOUIE  HENDERSON   \n",
       "3          venenatis tristique fusce            8     DYLAN      PEREZ   \n",
       "4                   duis at velit eu        39641      WARD    SANCHEZ   \n",
       "\n",
       "             ...            grocery_id insurance_id insurance_health_id  \\\n",
       "0            ...              100901.0          NaN                 NaN   \n",
       "1            ...              100902.0          NaN                 NaN   \n",
       "2            ...                   NaN     126570.0                 NaN   \n",
       "3            ...                   NaN     144207.0                 NaN   \n",
       "4            ...              100903.0          NaN                 NaN   \n",
       "\n",
       "   disease_id  perscription_id disease_name disease_treats  chemical_name  \\\n",
       "0         NaN              NaN          NaN            NaN            NaN   \n",
       "1         NaN              NaN          NaN            NaN            NaN   \n",
       "2         NaN              NaN          NaN            NaN            NaN   \n",
       "3         NaN              NaN          NaN            NaN            NaN   \n",
       "4         NaN              NaN          NaN            NaN            NaN   \n",
       "\n",
       "   marketing_name  perscription_probability  \n",
       "0             NaN                       NaN  \n",
       "1             NaN                       NaN  \n",
       "2             NaN                       NaN  \n",
       "3             NaN                       NaN  \n",
       "4             NaN                       NaN  \n",
       "\n",
       "[5 rows x 27 columns]"
      ]
     },
     "execution_count": 44,
     "metadata": {},
     "output_type": "execute_result"
    }
   ],
   "source": [
    "newdf.head()"
   ]
  },
  {
   "cell_type": "code",
   "execution_count": 106,
   "metadata": {},
   "outputs": [],
   "source": [
    "newdf2 = newdf.drop(['firstname','lastname','address','credit_card','ssn','insurance_member_id','insurance_health_id'], axis=1, errors='ignore')"
   ]
  },
  {
   "cell_type": "code",
   "execution_count": 107,
   "metadata": {},
   "outputs": [
    {
     "data": {
      "text/plain": [
       "Index(['grocery_member_id', 'plan_number', 'dob', 'ad_keywords', 'coupon_code',\n",
       "       'gender', 'ethnicity', 'zip', 'id', 'city', 'state', 'grocery_id',\n",
       "       'insurance_id', 'disease_id', 'perscription_id', 'disease_name',\n",
       "       'disease_treats', 'chemical_name', 'marketing_name',\n",
       "       'perscription_probability'],\n",
       "      dtype='object')"
      ]
     },
     "execution_count": 107,
     "metadata": {},
     "output_type": "execute_result"
    }
   ],
   "source": [
    "newdf2.columns"
   ]
  },
  {
   "cell_type": "code",
   "execution_count": 108,
   "metadata": {},
   "outputs": [],
   "source": [
    "newdf2['zip'] = newdf2['zip'].astype(str)"
   ]
  },
  {
   "cell_type": "code",
   "execution_count": 110,
   "metadata": {},
   "outputs": [],
   "source": [
    "def process_zip(df):\n",
    "    newdf = df\n",
    "    for i,row in newdf.iterrows():\n",
    "        tmp = str(row['zip'])\n",
    "        new_zip = tmp[:3]\n",
    "        for j in range(len(tmp)-3):\n",
    "            new_zip = new_zip + '*'\n",
    "        newdf.at[i,'zip'] = new_zip\n",
    "        #print(\"processed: \",newdf.iloc[i]['zip'])\n",
    "    return newdf"
   ]
  },
  {
   "cell_type": "code",
   "execution_count": 111,
   "metadata": {},
   "outputs": [],
   "source": [
    "newdf3 = process_zip(newdf2)"
   ]
  },
  {
   "cell_type": "code",
   "execution_count": 100,
   "metadata": {},
   "outputs": [
    {
     "data": {
      "text/plain": [
       "grocery_member_id            object\n",
       "plan_number                   int64\n",
       "dob                          object\n",
       "ad_keywords                  object\n",
       "coupon_code                   int64\n",
       "gender                       object\n",
       "ethnicity                    object\n",
       "zip                          object\n",
       "id                            int64\n",
       "city                         object\n",
       "state                        object\n",
       "grocery_id                  float64\n",
       "insurance_id                float64\n",
       "disease_id                  float64\n",
       "perscription_id             float64\n",
       "disease_name                 object\n",
       "disease_treats               object\n",
       "chemical_name                object\n",
       "marketing_name               object\n",
       "perscription_probability    float64\n",
       "dtype: object"
      ]
     },
     "execution_count": 100,
     "metadata": {},
     "output_type": "execute_result"
    }
   ],
   "source": [
    "newdf2.dtypes"
   ]
  },
  {
   "cell_type": "code",
   "execution_count": 112,
   "metadata": {},
   "outputs": [],
   "source": [
    "def process_dob(df):\n",
    "    newdf = df\n",
    "    for i,row in newdf.iterrows():\n",
    "        tmp = str(row['dob']).split('-')\n",
    "        newdf.at[i,'dob'] = tmp[0]\n",
    "        #print(\"processed: \",newdf.iloc[i]['dob'])\n",
    "    return newdf"
   ]
  },
  {
   "cell_type": "code",
   "execution_count": 113,
   "metadata": {},
   "outputs": [],
   "source": [
    "newdf4 = process_dob(newdf3)"
   ]
  },
  {
   "cell_type": "code",
   "execution_count": 114,
   "metadata": {},
   "outputs": [
    {
     "data": {
      "text/html": [
       "<div>\n",
       "<style scoped>\n",
       "    .dataframe tbody tr th:only-of-type {\n",
       "        vertical-align: middle;\n",
       "    }\n",
       "\n",
       "    .dataframe tbody tr th {\n",
       "        vertical-align: top;\n",
       "    }\n",
       "\n",
       "    .dataframe thead th {\n",
       "        text-align: right;\n",
       "    }\n",
       "</style>\n",
       "<table border=\"1\" class=\"dataframe\">\n",
       "  <thead>\n",
       "    <tr style=\"text-align: right;\">\n",
       "      <th></th>\n",
       "      <th>grocery_member_id</th>\n",
       "      <th>plan_number</th>\n",
       "      <th>dob</th>\n",
       "      <th>ad_keywords</th>\n",
       "      <th>coupon_code</th>\n",
       "      <th>gender</th>\n",
       "      <th>ethnicity</th>\n",
       "      <th>zip</th>\n",
       "      <th>id</th>\n",
       "      <th>city</th>\n",
       "      <th>state</th>\n",
       "      <th>grocery_id</th>\n",
       "      <th>insurance_id</th>\n",
       "      <th>disease_id</th>\n",
       "      <th>perscription_id</th>\n",
       "      <th>disease_name</th>\n",
       "      <th>disease_treats</th>\n",
       "      <th>chemical_name</th>\n",
       "      <th>marketing_name</th>\n",
       "      <th>perscription_probability</th>\n",
       "    </tr>\n",
       "  </thead>\n",
       "  <tbody>\n",
       "    <tr>\n",
       "      <th>0</th>\n",
       "      <td>9f42b7ad-b512-4ccf-947a-b66b6643deca</td>\n",
       "      <td>7732</td>\n",
       "      <td>1967</td>\n",
       "      <td>ante ipsum</td>\n",
       "      <td>1</td>\n",
       "      <td>M</td>\n",
       "      <td>White</td>\n",
       "      <td>787**</td>\n",
       "      <td>25</td>\n",
       "      <td>AUSTIN</td>\n",
       "      <td>TX</td>\n",
       "      <td>100901.0</td>\n",
       "      <td>NaN</td>\n",
       "      <td>NaN</td>\n",
       "      <td>NaN</td>\n",
       "      <td>NaN</td>\n",
       "      <td>NaN</td>\n",
       "      <td>NaN</td>\n",
       "      <td>NaN</td>\n",
       "      <td>NaN</td>\n",
       "    </tr>\n",
       "    <tr>\n",
       "      <th>1</th>\n",
       "      <td>b60c8450-64eb-41fe-8dda-1bbaf00d9e29</td>\n",
       "      <td>71963</td>\n",
       "      <td>1950</td>\n",
       "      <td>velit donec diam neque vestibulum</td>\n",
       "      <td>62699</td>\n",
       "      <td>M</td>\n",
       "      <td>Asian</td>\n",
       "      <td>631**</td>\n",
       "      <td>28</td>\n",
       "      <td>SAINT LOUIS</td>\n",
       "      <td>MO</td>\n",
       "      <td>100902.0</td>\n",
       "      <td>NaN</td>\n",
       "      <td>NaN</td>\n",
       "      <td>NaN</td>\n",
       "      <td>NaN</td>\n",
       "      <td>NaN</td>\n",
       "      <td>NaN</td>\n",
       "      <td>NaN</td>\n",
       "      <td>NaN</td>\n",
       "    </tr>\n",
       "    <tr>\n",
       "      <th>2</th>\n",
       "      <td>f479358b-3ddd-40ff-9053-501c63a4f413</td>\n",
       "      <td>9</td>\n",
       "      <td>1939</td>\n",
       "      <td>at ipsum ac tellus semper</td>\n",
       "      <td>80315</td>\n",
       "      <td>M</td>\n",
       "      <td>White</td>\n",
       "      <td>900**</td>\n",
       "      <td>31</td>\n",
       "      <td>LOS ANGELES</td>\n",
       "      <td>CA</td>\n",
       "      <td>NaN</td>\n",
       "      <td>126570.0</td>\n",
       "      <td>NaN</td>\n",
       "      <td>NaN</td>\n",
       "      <td>NaN</td>\n",
       "      <td>NaN</td>\n",
       "      <td>NaN</td>\n",
       "      <td>NaN</td>\n",
       "      <td>NaN</td>\n",
       "    </tr>\n",
       "    <tr>\n",
       "      <th>3</th>\n",
       "      <td>040e3fae-4fe8-4c2c-b92b-18bff1539afa</td>\n",
       "      <td>2303</td>\n",
       "      <td>1937</td>\n",
       "      <td>venenatis tristique fusce</td>\n",
       "      <td>8</td>\n",
       "      <td>M</td>\n",
       "      <td>White</td>\n",
       "      <td>667**</td>\n",
       "      <td>32</td>\n",
       "      <td>CRESTLINE</td>\n",
       "      <td>KS</td>\n",
       "      <td>NaN</td>\n",
       "      <td>144207.0</td>\n",
       "      <td>NaN</td>\n",
       "      <td>NaN</td>\n",
       "      <td>NaN</td>\n",
       "      <td>NaN</td>\n",
       "      <td>NaN</td>\n",
       "      <td>NaN</td>\n",
       "      <td>NaN</td>\n",
       "    </tr>\n",
       "    <tr>\n",
       "      <th>4</th>\n",
       "      <td>f82351fd-cc2d-4501-a357-64dc1a6fc938</td>\n",
       "      <td>34938</td>\n",
       "      <td>1964</td>\n",
       "      <td>duis at velit eu</td>\n",
       "      <td>39641</td>\n",
       "      <td>M</td>\n",
       "      <td>Black</td>\n",
       "      <td>432**</td>\n",
       "      <td>33</td>\n",
       "      <td>COLUMBUS</td>\n",
       "      <td>OH</td>\n",
       "      <td>100903.0</td>\n",
       "      <td>NaN</td>\n",
       "      <td>NaN</td>\n",
       "      <td>NaN</td>\n",
       "      <td>NaN</td>\n",
       "      <td>NaN</td>\n",
       "      <td>NaN</td>\n",
       "      <td>NaN</td>\n",
       "      <td>NaN</td>\n",
       "    </tr>\n",
       "  </tbody>\n",
       "</table>\n",
       "</div>"
      ],
      "text/plain": [
       "                      grocery_member_id  plan_number   dob  \\\n",
       "0  9f42b7ad-b512-4ccf-947a-b66b6643deca         7732  1967   \n",
       "1  b60c8450-64eb-41fe-8dda-1bbaf00d9e29        71963  1950   \n",
       "2  f479358b-3ddd-40ff-9053-501c63a4f413            9  1939   \n",
       "3  040e3fae-4fe8-4c2c-b92b-18bff1539afa         2303  1937   \n",
       "4  f82351fd-cc2d-4501-a357-64dc1a6fc938        34938  1964   \n",
       "\n",
       "                         ad_keywords  coupon_code gender ethnicity    zip  id  \\\n",
       "0                         ante ipsum            1      M     White  787**  25   \n",
       "1  velit donec diam neque vestibulum        62699      M     Asian  631**  28   \n",
       "2          at ipsum ac tellus semper        80315      M     White  900**  31   \n",
       "3          venenatis tristique fusce            8      M     White  667**  32   \n",
       "4                   duis at velit eu        39641      M     Black  432**  33   \n",
       "\n",
       "          city state  grocery_id  insurance_id  disease_id  perscription_id  \\\n",
       "0       AUSTIN    TX    100901.0           NaN         NaN              NaN   \n",
       "1  SAINT LOUIS    MO    100902.0           NaN         NaN              NaN   \n",
       "2  LOS ANGELES    CA         NaN      126570.0         NaN              NaN   \n",
       "3    CRESTLINE    KS         NaN      144207.0         NaN              NaN   \n",
       "4     COLUMBUS    OH    100903.0           NaN         NaN              NaN   \n",
       "\n",
       "  disease_name disease_treats chemical_name marketing_name  \\\n",
       "0          NaN            NaN           NaN            NaN   \n",
       "1          NaN            NaN           NaN            NaN   \n",
       "2          NaN            NaN           NaN            NaN   \n",
       "3          NaN            NaN           NaN            NaN   \n",
       "4          NaN            NaN           NaN            NaN   \n",
       "\n",
       "   perscription_probability  \n",
       "0                       NaN  \n",
       "1                       NaN  \n",
       "2                       NaN  \n",
       "3                       NaN  \n",
       "4                       NaN  "
      ]
     },
     "execution_count": 114,
     "metadata": {},
     "output_type": "execute_result"
    }
   ],
   "source": [
    "newdf4.head()"
   ]
  },
  {
   "cell_type": "code",
   "execution_count": 115,
   "metadata": {},
   "outputs": [],
   "source": [
    "newdf4.to_csv('deidentified.csv', sep=';', index=False)"
   ]
  },
  {
   "cell_type": "code",
   "execution_count": null,
   "metadata": {},
   "outputs": [],
   "source": []
  }
 ],
 "metadata": {
  "kernelspec": {
   "display_name": "Python 3",
   "language": "python",
   "name": "python3"
  },
  "language_info": {
   "codemirror_mode": {
    "name": "ipython",
    "version": 3
   },
   "file_extension": ".py",
   "mimetype": "text/x-python",
   "name": "python",
   "nbconvert_exporter": "python",
   "pygments_lexer": "ipython3",
   "version": "3.5.2"
  }
 },
 "nbformat": 4,
 "nbformat_minor": 2
}
